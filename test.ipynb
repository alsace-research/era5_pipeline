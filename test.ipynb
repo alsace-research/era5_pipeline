{
 "cells": [
  {
   "cell_type": "code",
   "execution_count": 1,
   "metadata": {},
   "outputs": [],
   "source": [
    "import gcsfs\n",
    "import os\n",
    "import pandas as pd\n",
    "import netCDF4 as nc\n",
    "import tempfile\n",
    "import h3\n",
    "import numpy as np\n",
    "from dask.distributed import Client"
   ]
  },
  {
   "cell_type": "code",
   "execution_count": 2,
   "metadata": {},
   "outputs": [],
   "source": [
    "import os\n",
    "import pandas as pd\n",
    "\n",
    "# Specify the directory where your parquet files are stored\n",
    "parquet_directory = 'data/processed/combined_output/period=1'\n",
    "\n",
    "# List all parquet files in the directory\n",
    "parquet_files = [os.path.join(parquet_directory, f) for f in os.listdir(parquet_directory) if f.endswith('.parquet')]\n",
    "\n",
    "# Read all parquet files and concatenate them into a single DataFrame\n",
    "df = pd.concat([pd.read_parquet(file) for file in parquet_files])"
   ]
  },
  {
   "cell_type": "code",
   "execution_count": 3,
   "metadata": {},
   "outputs": [
    {
     "name": "stdout",
     "output_type": "stream",
     "text": [
      "<class 'pandas.core.frame.DataFrame'>\n",
      "MultiIndex: 3636140 entries, (np.int64(612490487321853951), Timestamp('2022-01-01 07:00:00')) to (np.int64(616776967875723263), Timestamp('2022-01-01 20:00:00'))\n",
      "Data columns (total 1 columns):\n",
      " #   Column         Dtype  \n",
      "---  ------         -----  \n",
      " 0   precipitation  float64\n",
      "dtypes: float64(1)\n",
      "memory usage: 64.5 MB\n"
     ]
    }
   ],
   "source": [
    "df.info()"
   ]
  },
  {
   "cell_type": "code",
   "execution_count": 4,
   "metadata": {},
   "outputs": [
    {
     "data": {
      "text/html": [
       "<div>\n",
       "<style scoped>\n",
       "    .dataframe tbody tr th:only-of-type {\n",
       "        vertical-align: middle;\n",
       "    }\n",
       "\n",
       "    .dataframe tbody tr th {\n",
       "        vertical-align: top;\n",
       "    }\n",
       "\n",
       "    .dataframe thead th {\n",
       "        text-align: right;\n",
       "    }\n",
       "</style>\n",
       "<table border=\"1\" class=\"dataframe\">\n",
       "  <thead>\n",
       "    <tr style=\"text-align: right;\">\n",
       "      <th></th>\n",
       "      <th></th>\n",
       "      <th>precipitation</th>\n",
       "    </tr>\n",
       "    <tr>\n",
       "      <th>h3_index</th>\n",
       "      <th>timestamp</th>\n",
       "      <th></th>\n",
       "    </tr>\n",
       "  </thead>\n",
       "  <tbody>\n",
       "    <tr>\n",
       "      <th>612490487321853951</th>\n",
       "      <th>2022-01-01 07:00:00</th>\n",
       "      <td>0.000106</td>\n",
       "    </tr>\n",
       "    <tr>\n",
       "      <th rowspan=\"2\" valign=\"top\">612490666202628095</th>\n",
       "      <th>2022-01-01 08:00:00</th>\n",
       "      <td>0.000124</td>\n",
       "    </tr>\n",
       "    <tr>\n",
       "      <th>2022-01-01 09:00:00</th>\n",
       "      <td>0.000143</td>\n",
       "    </tr>\n",
       "    <tr>\n",
       "      <th rowspan=\"2\" valign=\"top\">612490667936972799</th>\n",
       "      <th>2022-01-01 08:00:00</th>\n",
       "      <td>0.000107</td>\n",
       "    </tr>\n",
       "    <tr>\n",
       "      <th>2022-01-01 09:00:00</th>\n",
       "      <td>0.000132</td>\n",
       "    </tr>\n",
       "    <tr>\n",
       "      <th rowspan=\"2\" valign=\"top\">612490669539196927</th>\n",
       "      <th>2022-01-01 08:00:00</th>\n",
       "      <td>0.000114</td>\n",
       "    </tr>\n",
       "    <tr>\n",
       "      <th>2022-01-01 09:00:00</th>\n",
       "      <td>0.000124</td>\n",
       "    </tr>\n",
       "    <tr>\n",
       "      <th rowspan=\"2\" valign=\"top\">612490669816020991</th>\n",
       "      <th>2022-01-01 08:00:00</th>\n",
       "      <td>0.000138</td>\n",
       "    </tr>\n",
       "    <tr>\n",
       "      <th>2022-01-01 09:00:00</th>\n",
       "      <td>0.000153</td>\n",
       "    </tr>\n",
       "    <tr>\n",
       "      <th>612490670094942207</th>\n",
       "      <th>2022-01-01 08:00:00</th>\n",
       "      <td>0.000128</td>\n",
       "    </tr>\n",
       "  </tbody>\n",
       "</table>\n",
       "</div>"
      ],
      "text/plain": [
       "                                        precipitation\n",
       "h3_index           timestamp                         \n",
       "612490487321853951 2022-01-01 07:00:00       0.000106\n",
       "612490666202628095 2022-01-01 08:00:00       0.000124\n",
       "                   2022-01-01 09:00:00       0.000143\n",
       "612490667936972799 2022-01-01 08:00:00       0.000107\n",
       "                   2022-01-01 09:00:00       0.000132\n",
       "612490669539196927 2022-01-01 08:00:00       0.000114\n",
       "                   2022-01-01 09:00:00       0.000124\n",
       "612490669816020991 2022-01-01 08:00:00       0.000138\n",
       "                   2022-01-01 09:00:00       0.000153\n",
       "612490670094942207 2022-01-01 08:00:00       0.000128"
      ]
     },
     "execution_count": 4,
     "metadata": {},
     "output_type": "execute_result"
    }
   ],
   "source": [
    "df.head(10)"
   ]
  }
 ],
 "metadata": {
  "kernelspec": {
   "display_name": "coiled-xarray",
   "language": "python",
   "name": "python3"
  },
  "language_info": {
   "codemirror_mode": {
    "name": "ipython",
    "version": 3
   },
   "file_extension": ".py",
   "mimetype": "text/x-python",
   "name": "python",
   "nbconvert_exporter": "python",
   "pygments_lexer": "ipython3",
   "version": "3.10.14"
  }
 },
 "nbformat": 4,
 "nbformat_minor": 2
}
