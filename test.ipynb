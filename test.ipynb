{
 "cells": [
  {
   "cell_type": "code",
   "execution_count": 1,
   "metadata": {},
   "outputs": [],
   "source": [
    "import gcsfs\n",
    "import os\n",
    "import pandas as pd\n",
    "import netCDF4 as nc\n",
    "import tempfile\n",
    "import h3\n",
    "import numpy as np\n",
    "from dask.distributed import Client"
   ]
  },
  {
   "cell_type": "code",
   "execution_count": 1,
   "metadata": {},
   "outputs": [],
   "source": [
    "import os\n",
    "import pandas as pd\n",
    "\n",
    "# Specify the directory where your parquet files are stored\n",
    "parquet_directory = 'data/processed/combined_output/period=1'\n",
    "\n",
    "# List all parquet files in the directory\n",
    "parquet_files = [os.path.join(parquet_directory, f) for f in os.listdir(parquet_directory) if f.endswith('.parquet')]\n",
    "\n",
    "# Read all parquet files and concatenate them into a single DataFrame\n",
    "df = pd.concat([pd.read_parquet(file) for file in parquet_files])"
   ]
  },
  {
   "cell_type": "code",
   "execution_count": 2,
   "metadata": {},
   "outputs": [
    {
     "name": "stdout",
     "output_type": "stream",
     "text": [
      "<class 'pandas.core.frame.DataFrame'>\n",
      "MultiIndex: 3636140 entries, (np.int64(612490487321853951), Timestamp('2022-01-01 07:00:00')) to (np.int64(616776967875723263), Timestamp('2022-01-01 20:00:00'))\n",
      "Data columns (total 1 columns):\n",
      " #   Column         Dtype  \n",
      "---  ------         -----  \n",
      " 0   precipitation  float64\n",
      "dtypes: float64(1)\n",
      "memory usage: 64.5 MB\n"
     ]
    }
   ],
   "source": [
    "df.info()"
   ]
  }
 ],
 "metadata": {
  "kernelspec": {
   "display_name": "coiled-xarray",
   "language": "python",
   "name": "python3"
  },
  "language_info": {
   "codemirror_mode": {
    "name": "ipython",
    "version": 3
   },
   "file_extension": ".py",
   "mimetype": "text/x-python",
   "name": "python",
   "nbconvert_exporter": "python",
   "pygments_lexer": "ipython3",
   "version": "3.10.14"
  }
 },
 "nbformat": 4,
 "nbformat_minor": 2
}
